{
 "cells": [
  {
   "cell_type": "code",
   "execution_count": 2,
   "id": "7d763694-3c05-4572-9e72-02872fab5dfa",
   "metadata": {},
   "outputs": [],
   "source": [
    "import pandas\n",
    "pandas.options.display.max_colwidth = 100"
   ]
  },
  {
   "cell_type": "code",
   "execution_count": 23,
   "id": "76c714d4-dd26-4aab-bada-a639da073d7f",
   "metadata": {},
   "outputs": [],
   "source": [
    "df_profile = pandas.read_excel('developer_profile.xlsx')\n",
    "df_project = pandas.read_excel('developer_project_data.xlsx')"
   ]
  },
  {
   "cell_type": "code",
   "execution_count": 55,
   "id": "89c30796-8a2d-49c0-9680-4fd0f21ca5b5",
   "metadata": {},
   "outputs": [
    {
     "name": "stdout",
     "output_type": "stream",
     "text": [
      "3\n"
     ]
    }
   ],
   "source": [
    "# List which dev not in profile\n",
    "missing_id = []\n",
    "for profile in id_from_project:\n",
    "    if profile not in full_id:\n",
    "        missing_id.append(profile)\n",
    "print(len(missing_id))"
   ]
  },
  {
   "cell_type": "code",
   "execution_count": 40,
   "id": "9f6beace-7450-4e6a-984d-fdd781bef523",
   "metadata": {},
   "outputs": [
    {
     "name": "stdout",
     "output_type": "stream",
     "text": [
      "238\n"
     ]
    }
   ],
   "source": [
    "zero_project_dev = df_profile[df_profile['jml_prpt']==0]\n",
    "print(len(zero_project_dev))"
   ]
  },
  {
   "cell_type": "code",
   "execution_count": null,
   "id": "05089ff4-5258-4c33-b970-bca6de691aa1",
   "metadata": {},
   "outputs": [],
   "source": []
  },
  {
   "cell_type": "code",
   "execution_count": 25,
   "id": "9c894539-374a-46f1-a441-79ffc8df5049",
   "metadata": {},
   "outputs": [
    {
     "data": {
      "text/html": [
       "<div>\n",
       "<style scoped>\n",
       "    .dataframe tbody tr th:only-of-type {\n",
       "        vertical-align: middle;\n",
       "    }\n",
       "\n",
       "    .dataframe tbody tr th {\n",
       "        vertical-align: top;\n",
       "    }\n",
       "\n",
       "    .dataframe thead th {\n",
       "        text-align: right;\n",
       "    }\n",
       "</style>\n",
       "<table border=\"1\" class=\"dataframe\">\n",
       "  <thead>\n",
       "    <tr style=\"text-align: right;\">\n",
       "      <th></th>\n",
       "      <th>id</th>\n",
       "      <th>jml_prpt</th>\n",
       "    </tr>\n",
       "  </thead>\n",
       "  <tbody>\n",
       "    <tr>\n",
       "      <th>0</th>\n",
       "      <td>SPS9</td>\n",
       "      <td>4</td>\n",
       "    </tr>\n",
       "    <tr>\n",
       "      <th>1</th>\n",
       "      <td>AAAG</td>\n",
       "      <td>0</td>\n",
       "    </tr>\n",
       "    <tr>\n",
       "      <th>2</th>\n",
       "      <td>UPP2</td>\n",
       "      <td>4</td>\n",
       "    </tr>\n",
       "    <tr>\n",
       "      <th>3</th>\n",
       "      <td>CP81</td>\n",
       "      <td>0</td>\n",
       "    </tr>\n",
       "    <tr>\n",
       "      <th>4</th>\n",
       "      <td>T885</td>\n",
       "      <td>9</td>\n",
       "    </tr>\n",
       "    <tr>\n",
       "      <th>...</th>\n",
       "      <td>...</td>\n",
       "      <td>...</td>\n",
       "    </tr>\n",
       "    <tr>\n",
       "      <th>4356</th>\n",
       "      <td>Z033</td>\n",
       "      <td>2</td>\n",
       "    </tr>\n",
       "    <tr>\n",
       "      <th>4357</th>\n",
       "      <td>Z035</td>\n",
       "      <td>1</td>\n",
       "    </tr>\n",
       "    <tr>\n",
       "      <th>4358</th>\n",
       "      <td>ZBDL</td>\n",
       "      <td>3</td>\n",
       "    </tr>\n",
       "    <tr>\n",
       "      <th>4359</th>\n",
       "      <td>ZGA1</td>\n",
       "      <td>2</td>\n",
       "    </tr>\n",
       "    <tr>\n",
       "      <th>4360</th>\n",
       "      <td>ZPJ1</td>\n",
       "      <td>1</td>\n",
       "    </tr>\n",
       "  </tbody>\n",
       "</table>\n",
       "<p>4361 rows × 2 columns</p>\n",
       "</div>"
      ],
      "text/plain": [
       "        id  jml_prpt\n",
       "0     SPS9         4\n",
       "1     AAAG         0\n",
       "2     UPP2         4\n",
       "3     CP81         0\n",
       "4     T885         9\n",
       "...    ...       ...\n",
       "4356  Z033         2\n",
       "4357  Z035         1\n",
       "4358  ZBDL         3\n",
       "4359  ZGA1         2\n",
       "4360  ZPJ1         1\n",
       "\n",
       "[4361 rows x 2 columns]"
      ]
     },
     "execution_count": 25,
     "metadata": {},
     "output_type": "execute_result"
    }
   ],
   "source": [
    "# id in profile\n",
    "df_profile[['id', 'jml_prpt']]"
   ]
  },
  {
   "cell_type": "code",
   "execution_count": 59,
   "id": "20400bb1-f27b-408a-aa5b-46826d3eb71e",
   "metadata": {},
   "outputs": [],
   "source": [
    "# ID_DEV in project\n",
    "id_counter = df_project['ID_DEV'].value_counts().rename_axis('id').reset_index(name='counts')\n",
    "\n",
    "# df_profile_id_dev = df_profile[['id', 'jml_prpt']]\n",
    "# id_counter = df_profile_id_dev.merge(id_counter, on='id')"
   ]
  },
  {
   "cell_type": "code",
   "execution_count": 60,
   "id": "a4215a9f-f912-4b86-bcb8-15ce9ff66cba",
   "metadata": {},
   "outputs": [
    {
     "name": "stdout",
     "output_type": "stream",
     "text": [
      "<class 'pandas.core.frame.DataFrame'>\n",
      "RangeIndex: 4113 entries, 0 to 4112\n",
      "Data columns (total 2 columns):\n",
      " #   Column  Non-Null Count  Dtype \n",
      "---  ------  --------------  ----- \n",
      " 0   id      4113 non-null   object\n",
      " 1   counts  4113 non-null   int64 \n",
      "dtypes: int64(1), object(1)\n",
      "memory usage: 64.4+ KB\n"
     ]
    }
   ],
   "source": [
    "id_counter.info()"
   ]
  },
  {
   "cell_type": "code",
   "execution_count": 43,
   "id": "b6863598-cbe2-45f8-a316-094cc39a2add",
   "metadata": {},
   "outputs": [],
   "source": [
    "# Find which one is not found\n",
    "id_counter['is_equal'] = id_counter.apply(lambda row: True if row['counts']==row['jml_prpt'] else False, axis=1)"
   ]
  },
  {
   "cell_type": "code",
   "execution_count": 45,
   "id": "0cecbfb4-09c5-4427-a944-f302c760254c",
   "metadata": {},
   "outputs": [
    {
     "data": {
      "text/html": [
       "<div>\n",
       "<style scoped>\n",
       "    .dataframe tbody tr th:only-of-type {\n",
       "        vertical-align: middle;\n",
       "    }\n",
       "\n",
       "    .dataframe tbody tr th {\n",
       "        vertical-align: top;\n",
       "    }\n",
       "\n",
       "    .dataframe thead th {\n",
       "        text-align: right;\n",
       "    }\n",
       "</style>\n",
       "<table border=\"1\" class=\"dataframe\">\n",
       "  <thead>\n",
       "    <tr style=\"text-align: right;\">\n",
       "      <th></th>\n",
       "      <th>id</th>\n",
       "      <th>jml_prpt</th>\n",
       "      <th>counts</th>\n",
       "      <th>is_equal</th>\n",
       "    </tr>\n",
       "  </thead>\n",
       "  <tbody>\n",
       "  </tbody>\n",
       "</table>\n",
       "</div>"
      ],
      "text/plain": [
       "Empty DataFrame\n",
       "Columns: [id, jml_prpt, counts, is_equal]\n",
       "Index: []"
      ]
     },
     "execution_count": 45,
     "metadata": {},
     "output_type": "execute_result"
    }
   ],
   "source": [
    "id_counter[id_counter['is_equal']==None]"
   ]
  },
  {
   "cell_type": "code",
   "execution_count": 56,
   "id": "4eb4450a-3da2-4388-9a74-58b3510a5939",
   "metadata": {},
   "outputs": [
    {
     "data": {
      "text/html": [
       "<div>\n",
       "<style scoped>\n",
       "    .dataframe tbody tr th:only-of-type {\n",
       "        vertical-align: middle;\n",
       "    }\n",
       "\n",
       "    .dataframe tbody tr th {\n",
       "        vertical-align: top;\n",
       "    }\n",
       "\n",
       "    .dataframe thead th {\n",
       "        text-align: right;\n",
       "    }\n",
       "</style>\n",
       "<table border=\"1\" class=\"dataframe\">\n",
       "  <thead>\n",
       "    <tr style=\"text-align: right;\">\n",
       "      <th></th>\n",
       "      <th>id</th>\n",
       "      <th>jml_prpt</th>\n",
       "      <th>counts</th>\n",
       "      <th>is_equal</th>\n",
       "    </tr>\n",
       "  </thead>\n",
       "  <tbody>\n",
       "    <tr>\n",
       "      <th>0</th>\n",
       "      <td>SPS9</td>\n",
       "      <td>4</td>\n",
       "      <td>4</td>\n",
       "      <td>True</td>\n",
       "    </tr>\n",
       "    <tr>\n",
       "      <th>1</th>\n",
       "      <td>UPP2</td>\n",
       "      <td>4</td>\n",
       "      <td>4</td>\n",
       "      <td>True</td>\n",
       "    </tr>\n",
       "    <tr>\n",
       "      <th>2</th>\n",
       "      <td>T885</td>\n",
       "      <td>9</td>\n",
       "      <td>9</td>\n",
       "      <td>True</td>\n",
       "    </tr>\n",
       "    <tr>\n",
       "      <th>3</th>\n",
       "      <td>SPI5</td>\n",
       "      <td>1</td>\n",
       "      <td>1</td>\n",
       "      <td>True</td>\n",
       "    </tr>\n",
       "    <tr>\n",
       "      <th>4</th>\n",
       "      <td>ZAP7</td>\n",
       "      <td>1</td>\n",
       "      <td>1</td>\n",
       "      <td>True</td>\n",
       "    </tr>\n",
       "    <tr>\n",
       "      <th>...</th>\n",
       "      <td>...</td>\n",
       "      <td>...</td>\n",
       "      <td>...</td>\n",
       "      <td>...</td>\n",
       "    </tr>\n",
       "    <tr>\n",
       "      <th>4105</th>\n",
       "      <td>Z033</td>\n",
       "      <td>2</td>\n",
       "      <td>2</td>\n",
       "      <td>True</td>\n",
       "    </tr>\n",
       "    <tr>\n",
       "      <th>4106</th>\n",
       "      <td>Z035</td>\n",
       "      <td>1</td>\n",
       "      <td>1</td>\n",
       "      <td>True</td>\n",
       "    </tr>\n",
       "    <tr>\n",
       "      <th>4107</th>\n",
       "      <td>ZBDL</td>\n",
       "      <td>3</td>\n",
       "      <td>3</td>\n",
       "      <td>True</td>\n",
       "    </tr>\n",
       "    <tr>\n",
       "      <th>4108</th>\n",
       "      <td>ZGA1</td>\n",
       "      <td>2</td>\n",
       "      <td>2</td>\n",
       "      <td>True</td>\n",
       "    </tr>\n",
       "    <tr>\n",
       "      <th>4109</th>\n",
       "      <td>ZPJ1</td>\n",
       "      <td>1</td>\n",
       "      <td>1</td>\n",
       "      <td>True</td>\n",
       "    </tr>\n",
       "  </tbody>\n",
       "</table>\n",
       "<p>4110 rows × 4 columns</p>\n",
       "</div>"
      ],
      "text/plain": [
       "        id  jml_prpt  counts  is_equal\n",
       "0     SPS9         4       4      True\n",
       "1     UPP2         4       4      True\n",
       "2     T885         9       9      True\n",
       "3     SPI5         1       1      True\n",
       "4     ZAP7         1       1      True\n",
       "...    ...       ...     ...       ...\n",
       "4105  Z033         2       2      True\n",
       "4106  Z035         1       1      True\n",
       "4107  ZBDL         3       3      True\n",
       "4108  ZGA1         2       2      True\n",
       "4109  ZPJ1         1       1      True\n",
       "\n",
       "[4110 rows x 4 columns]"
      ]
     },
     "execution_count": 56,
     "metadata": {},
     "output_type": "execute_result"
    }
   ],
   "source": [
    "id_counter"
   ]
  },
  {
   "cell_type": "code",
   "execution_count": 61,
   "id": "bfaf8b9a-2e72-4858-9688-5e6e2ba4c4fe",
   "metadata": {},
   "outputs": [],
   "source": [
    "join_df = df_profile.set_index('id').join(id_counter.set_index('id'))"
   ]
  },
  {
   "cell_type": "code",
   "execution_count": 67,
   "id": "37e324cd-7f9b-43a7-a15b-a5a751bb60b0",
   "metadata": {},
   "outputs": [],
   "source": [
    "join_df[['n','jml_prpt','counts']].to_excel('missing_id.xlsx')"
   ]
  },
  {
   "cell_type": "code",
   "execution_count": null,
   "id": "97e94d1e-8828-4161-9e59-450553d871c6",
   "metadata": {},
   "outputs": [],
   "source": []
  }
 ],
 "metadata": {
  "kernelspec": {
   "display_name": "Python 3 (ipykernel)",
   "language": "python",
   "name": "python3"
  },
  "language_info": {
   "codemirror_mode": {
    "name": "ipython",
    "version": 3
   },
   "file_extension": ".py",
   "mimetype": "text/x-python",
   "name": "python",
   "nbconvert_exporter": "python",
   "pygments_lexer": "ipython3",
   "version": "3.10.12"
  }
 },
 "nbformat": 4,
 "nbformat_minor": 5
}
