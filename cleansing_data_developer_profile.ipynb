{
 "cells": [
  {
   "cell_type": "code",
   "execution_count": 2,
   "id": "7d763694-3c05-4572-9e72-02872fab5dfa",
   "metadata": {},
   "outputs": [],
   "source": [
    "import pandas\n",
    "pandas.options.display.max_colwidth = 100"
   ]
  },
  {
   "cell_type": "code",
   "execution_count": 32,
   "id": "76c714d4-dd26-4aab-bada-a639da073d7f",
   "metadata": {},
   "outputs": [],
   "source": [
    "df = pandas.read_excel('developer_profile.xlsx')"
   ]
  },
  {
   "cell_type": "code",
   "execution_count": 33,
   "id": "ab112396-a4d5-4870-a3df-6472618696c5",
   "metadata": {},
   "outputs": [
    {
     "name": "stdout",
     "output_type": "stream",
     "text": [
      "<class 'pandas.core.frame.DataFrame'>\n",
      "RangeIndex: 4361 entries, 0 to 4360\n",
      "Data columns (total 16 columns):\n",
      " #   Column                Non-Null Count  Dtype \n",
      "---  ------                --------------  ----- \n",
      " 0   id                    4361 non-null   object\n",
      " 1   n                     4361 non-null   object\n",
      " 2   logo                  2113 non-null   object\n",
      " 3   jml_prpt              4361 non-null   int64 \n",
      " 4   label                 4361 non-null   object\n",
      " 5   status_premium        4361 non-null   int64 \n",
      " 6   segmentasi_dev        2839 non-null   object\n",
      " 7   registered_sikumbang  4361 non-null   int64 \n",
      " 8   developer_url         4361 non-null   object\n",
      " 9   property_url          4361 non-null   object\n",
      " 10  address               4327 non-null   object\n",
      " 11  phone                 4348 non-null   object\n",
      " 12  email                 4360 non-null   object\n",
      " 13  about                 4361 non-null   object\n",
      " 14  speciality_service    4361 non-null   object\n",
      " 15  area                  4361 non-null   object\n",
      "dtypes: int64(3), object(13)\n",
      "memory usage: 545.2+ KB\n"
     ]
    }
   ],
   "source": [
    "df.info()"
   ]
  },
  {
   "cell_type": "code",
   "execution_count": 34,
   "id": "602d84bc-0e0c-43cd-b0b3-c280d14d8da4",
   "metadata": {},
   "outputs": [],
   "source": [
    "# Data Cleansing: label"
   ]
  },
  {
   "cell_type": "code",
   "execution_count": 35,
   "id": "541847cb-44ea-425a-a9ec-f362d3adc37d",
   "metadata": {},
   "outputs": [
    {
     "data": {
      "text/plain": [
       "array([\"['rumah']\", '[]', \"['apartement']\", \"['rumah', 'apartement']\"],\n",
       "      dtype=object)"
      ]
     },
     "execution_count": 35,
     "metadata": {},
     "output_type": "execute_result"
    }
   ],
   "source": [
    "df['label'].unique()"
   ]
  },
  {
   "cell_type": "code",
   "execution_count": 36,
   "id": "4582a527-65c7-468a-a2d7-1ad2d7387d0e",
   "metadata": {},
   "outputs": [],
   "source": [
    "# Replacing [ and ]\n",
    "df['label'] = df['label'].str.replace('[','').str.replace(']','').str.replace(\"'\",\"\")"
   ]
  },
  {
   "cell_type": "code",
   "execution_count": 37,
   "id": "08fc8a2a-1f06-4d12-b66d-837515c3fb8a",
   "metadata": {},
   "outputs": [
    {
     "data": {
      "text/plain": [
       "0    rumah\n",
       "1         \n",
       "2    rumah\n",
       "3         \n",
       "4    rumah\n",
       "Name: label, dtype: object"
      ]
     },
     "execution_count": 37,
     "metadata": {},
     "output_type": "execute_result"
    }
   ],
   "source": [
    "df['label'].head()"
   ]
  },
  {
   "cell_type": "code",
   "execution_count": 38,
   "id": "ac63fa75-19d9-4e6d-bfc2-8cc44f3a6ccc",
   "metadata": {},
   "outputs": [],
   "source": [
    "# Data Cleansing: phone"
   ]
  },
  {
   "cell_type": "code",
   "execution_count": 57,
   "id": "47e561e9-bcae-4ff8-bcf5-3aa3c28842ca",
   "metadata": {},
   "outputs": [],
   "source": [
    "df_expanded\n",
    "# df_expanded.to_excel('phones.xlsx', index=False)"
   ]
  },
  {
   "cell_type": "code",
   "execution_count": 116,
   "id": "3916bc9e-63d7-4783-aeba-53562797ad9d",
   "metadata": {
    "scrolled": true
   },
   "outputs": [],
   "source": [
    "# This will create a df with new column as its expanded from df[phone]\n",
    "df_expanded = df['phone'].str.split('/', expand=True)\n",
    "df_expanded.columns = ['phone1', 'phone2', 'phone3']\n",
    "\n",
    "df_expanded_expanded = df_expanded['phone1'].str.split(\",\", expand=True)\n",
    "df_expanded_expanded.columns = ['phone4', 'phone5', 'phone6', 'phone7']\n",
    "df_expanded = df_expanded.join(df_expanded_expanded)"
   ]
  },
  {
   "cell_type": "code",
   "execution_count": 117,
   "id": "fa30d7e8-07bf-45de-bb75-285580789069",
   "metadata": {
    "scrolled": true
   },
   "outputs": [],
   "source": [
    "df_expanded = df_expanded.apply(lambda x: x.str.replace(r'\\D', '', regex=True))"
   ]
  },
  {
   "cell_type": "code",
   "execution_count": 118,
   "id": "d652a3cc-b5c6-4ce0-b222-6914dd1c217e",
   "metadata": {},
   "outputs": [
    {
     "name": "stdout",
     "output_type": "stream",
     "text": [
      "<class 'pandas.core.frame.DataFrame'>\n",
      "RangeIndex: 4361 entries, 0 to 4360\n",
      "Data columns (total 7 columns):\n",
      " #   Column  Non-Null Count  Dtype \n",
      "---  ------  --------------  ----- \n",
      " 0   phone1  4347 non-null   object\n",
      " 1   phone2  253 non-null    object\n",
      " 2   phone3  26 non-null     object\n",
      " 3   phone4  4347 non-null   string\n",
      " 4   phone5  10 non-null     object\n",
      " 5   phone6  2 non-null      object\n",
      " 6   phone7  1 non-null      object\n",
      "dtypes: object(6), string(1)\n",
      "memory usage: 238.6+ KB\n"
     ]
    }
   ],
   "source": [
    "df_expanded['phone4'] = df_expanded['phone4'].astype('string')\n",
    "df_expanded.info()"
   ]
  },
  {
   "cell_type": "code",
   "execution_count": 173,
   "id": "70723f99-f8b6-4d10-a2a0-09a62081f1d8",
   "metadata": {},
   "outputs": [],
   "source": [
    "def is_whatsapp(x):\n",
    "    if pandas.notna(x) and len(x) > 5:\n",
    "        if \"08\" in x or \"628\" in x or x.startswith('8'):\n",
    "            return f\"https://wa.me/{x}\"\n",
    "    else:\n",
    "        return None\n"
   ]
  },
  {
   "cell_type": "code",
   "execution_count": 174,
   "id": "57eab68a-baf6-4f15-9d68-4987d0d8fdd5",
   "metadata": {},
   "outputs": [],
   "source": [
    "df_expanded['whatsapp'] = df_expanded['phone4'].apply(lambda x: is_whatsapp(x))"
   ]
  },
  {
   "cell_type": "code",
   "execution_count": 175,
   "id": "d4ec7cf4-bce1-4fde-a360-e9cdbcaaba5e",
   "metadata": {},
   "outputs": [],
   "source": [
    "df_expanded['office_phone'] = df_expanded.apply(lambda row: row['phone4'] if row['whatsapp'] is None else None, axis=1)"
   ]
  },
  {
   "cell_type": "code",
   "execution_count": 163,
   "id": "58f60af7-9af6-4d45-8591-a43bc1428038",
   "metadata": {},
   "outputs": [],
   "source": [
    "df_expanded['whatsapp'] = df_expanded.apply(lambda row: f\"https://0{row['office_phone']}\" if row['whatsapp'] is None else row['whatsapp'], axis=1)"
   ]
  },
  {
   "cell_type": "code",
   "execution_count": 176,
   "id": "51408f12-eebb-4309-a0b1-eb6ad0b23f2e",
   "metadata": {},
   "outputs": [
    {
     "data": {
      "text/plain": [
       "array([None, '02188856387', '02155689777', '0', '025459450666',\n",
       "       '0216339377', '06142568441', '0223738100', '6006829', '022791559',\n",
       "       '02188997225', '02189457801', <NA>, '0274414054', '0317590980',\n",
       "       '02188856000', '0218671155', '0214890188', '0431817714',\n",
       "       '0561713747', '0623357372', '0218762179', '0431811577',\n",
       "       '02153157263', '02130030601', '02518212060', '02156948888',\n",
       "       '05618128388', '03185587787', '0317322144', '0812', '0315012999',\n",
       "       '07116201188', '02189071865', '02122259666', '073624996',\n",
       "       '0911361429', '02284228746', '0461370390', '021', '02122326200',\n",
       "       '58903588', '0431833819', '0729', '0315616622', '62217548455',\n",
       "       '02517538060', '02943696464', '0227833916', '02189133555',\n",
       "       '02285941331', '02174864427', '06142561517', '02648330773',\n",
       "       '450333', '70666855', '0411456199', '02622860924', '0217536222',\n",
       "       '0215986545', '04013418011', '0711721217', '06173383298',\n",
       "       '06142786388', '02129253555', '02476633182', '07477332249',\n",
       "       '02742823438', '0561765199', '0211500517', '0761', '02518642222',\n",
       "       '02624892039', '0231', '481186', '02284225306', '217271888',\n",
       "       '0318700022', '5534999', '03185341254', '02286121687',\n",
       "       '03130006018', '02129050900', '02518591107', '03199441042',\n",
       "       '05416522020', '0215705105', '02517555764', '0614526407',\n",
       "       '07477332443', '03514772053', '07618410617', '000011112222',\n",
       "       '0318557248', '02182752577', '0561775759', '02744398197',\n",
       "       '61467245', '03215885020', '02547816868', '00001112222',\n",
       "       '022162641', '02189323768', '02954101369', '0217548455',\n",
       "       '02678642272', '0267432851', '03619313991', '0542872996',\n",
       "       '0218952686', '02159498528', '02632953512', '05618174336',\n",
       "       '00331412588', '02189846777', '02122175000', '02129662268',\n",
       "       '0542420333', '0271729598', '02189228918', '021189237602',\n",
       "       '0315054787', '07557335236', '0411', '0281636970', '03199427805',\n",
       "       '0227817777', '05114283143', '0518753030', '073652319', '763224',\n",
       "       '0345345', '02287826306', '1234567890', '0224264230', '0218580322',\n",
       "       '0271858059', '0411459353', '07787417373', '02127598899',\n",
       "       '012382910', '0211234567', '07215610561', '05117942010',\n",
       "       '0265752624', '07717011838', '0618453359', '02518591465',\n",
       "       '02678411011', '02184310362', '0215422115002129506121',\n",
       "       '02122114452', '02747400223', '02548491880', '02153191322',\n",
       "       '02678456260', '05116747687', '02129094499', '04114098249',\n",
       "       '0317670445', '07217621050', '0234273849', '02187792734',\n",
       "       '0354777677', '02187926777', '331321471', '02518352796',\n",
       "       '0212904881011', '0123456789', '0285434955', '0811', '0231312700',\n",
       "       '02666722888', '22604', '02189833955', '02854495344',\n",
       "       '0217587198202194458636', '0341723630', '02129252587',\n",
       "       '0351454430', '0319924848', '06244970754', '0231323700', '581057',\n",
       "       '02643542229', '0218844434', '03517025152', '0322458794',\n",
       "       '3522121', '03619069594', '02717892886', '0123', '0333424152',\n",
       "       '06180046292', '07215616946', '02155913456', '04113615377',\n",
       "       '02662483900', '0617323326', '02517542000', '02632918212',\n",
       "       '0333417786', '0282545721', '0741580419', '00000000000',\n",
       "       '0717431347', '627413064955', '4264230', '02648303945',\n",
       "       '0254281111', '02622542853', '07517051276', '07367313583',\n",
       "       '0778466222', '0721470630', '0361727756', '0227312369',\n",
       "       '62217902227', '02612401356', '02189462999', '02518566954',\n",
       "       '07784802467', '02678411779', '07217025524', '02318300147',\n",
       "       '0351472888', '074163381', '02518586111', '0218975911',\n",
       "       '07367325610', '75139397', '07518970112', '0313977900',\n",
       "       '0215302261', '0217566666', '081', '031', '625428510188',\n",
       "       '02744292845', '0761566938', '02122532990', '07255263220',\n",
       "       '0274391540', '62542876576', '05113255898', '07413603536',\n",
       "       '0217404749', '07287251184', '02678634193', '02182431788',\n",
       "       '0215825757', '07367321044', '02744395862', '02744438438',\n",
       "       '02220507406', '02189250689', '02186901174', '02188395683',\n",
       "       '02517594548', '02678407878', '00000000000000000000', '7304652',\n",
       "       '0321', '02122722033', '042190002', '03133300099', '0287471336',\n",
       "       '04518445001', '0281684311', '02122865165', '62721783360',\n",
       "       '02548484932', '07714651298', '07174256000', '09213115264',\n",
       "       '07217359371', '05616713460', '0265334981', '06344321172',\n",
       "       '02129857200', '0621329174', '0284323629', '0711711995',\n",
       "       '07517056966', '0717421974', '06142003333', '0262233011',\n",
       "       '0761673999', '02547814930', '07353740522', '0333420989',\n",
       "       '06142406899', '02863304775', '0331332957', '09871100662',\n",
       "       '0771442776', '02752971111', '02175792888', '02129195297',\n",
       "       '02547817138', '02155782526', '03618946713', '00000000',\n",
       "       '0317530123', '05414115224', '08', '0218893333', '075131179',\n",
       "       '02476400196', '000', '0274485999', '02122857164', '07517858206',\n",
       "       '0423420333', '0321123', '0711822009', '02286678112',\n",
       "       '028133090902', '0282531766', '0511', '26332', '0218196910',\n",
       "       '0217560323', '02313636250', '02547542000', '0751499542',\n",
       "       '02252399609', '07215600269', '0215962222', '0254204777',\n",
       "       '07654370377', '02136425591', '0182888732', '422909',\n",
       "       '02174631000', '02122889588', '622121011200', '02934960615'],\n",
       "      dtype=object)"
      ]
     },
     "execution_count": 176,
     "metadata": {},
     "output_type": "execute_result"
    }
   ],
   "source": [
    "df_expanded['office_phone'].unique()"
   ]
  },
  {
   "cell_type": "code",
   "execution_count": 181,
   "id": "554d7c64-8ae3-406e-b843-12b7dcffc82a",
   "metadata": {},
   "outputs": [
    {
     "data": {
      "text/plain": [
       "300                           None\n",
       "301     https://wa.me/082313948131\n",
       "302      https://wa.me/08128001596\n",
       "303                           None\n",
       "304       https://wa.me/0811405887\n",
       "                   ...            \n",
       "4356     https://wa.me/08113276410\n",
       "4357    https://wa.me/085714631280\n",
       "4358    https://wa.me/087780999782\n",
       "4359    https://wa.me/085278270573\n",
       "4360    https://wa.me/085240511775\n",
       "Name: whatsapp, Length: 4061, dtype: object"
      ]
     },
     "execution_count": 181,
     "metadata": {},
     "output_type": "execute_result"
    }
   ],
   "source": [
    "df_expanded['whatsapp'].iloc[300:]"
   ]
  },
  {
   "cell_type": "code",
   "execution_count": 182,
   "id": "a9fcebe8-d76a-4512-aae2-9be5d6b43822",
   "metadata": {},
   "outputs": [],
   "source": [
    "df_origin_with_phones = df.join(df_expanded)"
   ]
  },
  {
   "cell_type": "code",
   "execution_count": 183,
   "id": "9ab369b6-5dce-4a3a-9bab-6b66ec2a3431",
   "metadata": {},
   "outputs": [
    {
     "name": "stdout",
     "output_type": "stream",
     "text": [
      "<class 'pandas.core.frame.DataFrame'>\n",
      "RangeIndex: 4361 entries, 0 to 4360\n",
      "Data columns (total 25 columns):\n",
      " #   Column                Non-Null Count  Dtype \n",
      "---  ------                --------------  ----- \n",
      " 0   id                    4361 non-null   object\n",
      " 1   n                     4361 non-null   object\n",
      " 2   logo                  2113 non-null   object\n",
      " 3   jml_prpt              4361 non-null   int64 \n",
      " 4   label                 4361 non-null   object\n",
      " 5   status_premium        4361 non-null   int64 \n",
      " 6   segmentasi_dev        2839 non-null   object\n",
      " 7   registered_sikumbang  4361 non-null   int64 \n",
      " 8   developer_url         4361 non-null   object\n",
      " 9   property_url          4361 non-null   object\n",
      " 10  address               4327 non-null   object\n",
      " 11  phone                 4348 non-null   object\n",
      " 12  email                 4360 non-null   object\n",
      " 13  about                 4361 non-null   object\n",
      " 14  speciality_service    4361 non-null   object\n",
      " 15  area                  4361 non-null   object\n",
      " 16  phone1                4347 non-null   object\n",
      " 17  phone2                253 non-null    object\n",
      " 18  phone3                26 non-null     object\n",
      " 19  phone4                4347 non-null   string\n",
      " 20  phone5                10 non-null     object\n",
      " 21  phone6                2 non-null      object\n",
      " 22  phone7                1 non-null      object\n",
      " 23  whatsapp              3556 non-null   object\n",
      " 24  office_phone          791 non-null    object\n",
      "dtypes: int64(3), object(21), string(1)\n",
      "memory usage: 851.9+ KB\n"
     ]
    }
   ],
   "source": [
    "df_origin_with_phones.info()"
   ]
  },
  {
   "cell_type": "code",
   "execution_count": 184,
   "id": "a1dd4e30-56e9-48f1-9c15-adc0ed9c874a",
   "metadata": {},
   "outputs": [],
   "source": [
    "df_origin_with_phones.to_excel('developer_profile_minus_address.xlsx', index=False)"
   ]
  },
  {
   "cell_type": "code",
   "execution_count": null,
   "id": "9808f4f9-445e-4348-99e0-3f2b194a6379",
   "metadata": {},
   "outputs": [],
   "source": []
  }
 ],
 "metadata": {
  "kernelspec": {
   "display_name": "Python 3 (ipykernel)",
   "language": "python",
   "name": "python3"
  },
  "language_info": {
   "codemirror_mode": {
    "name": "ipython",
    "version": 3
   },
   "file_extension": ".py",
   "mimetype": "text/x-python",
   "name": "python",
   "nbconvert_exporter": "python",
   "pygments_lexer": "ipython3",
   "version": "3.10.12"
  }
 },
 "nbformat": 4,
 "nbformat_minor": 5
}
